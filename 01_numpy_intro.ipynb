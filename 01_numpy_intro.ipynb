{
 "cells": [
  {
   "cell_type": "markdown",
   "id": "439e1570",
   "metadata": {},
   "source": [
    "# **Numpy Introduction**"
   ]
  },
  {
   "cell_type": "code",
   "execution_count": 1,
   "id": "fdef3789",
   "metadata": {},
   "outputs": [
    {
     "name": "stdout",
     "output_type": "stream",
     "text": [
      "Requirement already satisfied: numpy in /home/mr-awais/miniconda3/envs/laibrary/lib/python3.11/site-packages (2.3.1)\n"
     ]
    }
   ],
   "source": [
    "# install the library\n",
    "!pip install numpy "
   ]
  },
  {
   "cell_type": "code",
   "execution_count": 2,
   "id": "19a0ceb5",
   "metadata": {},
   "outputs": [],
   "source": [
    "# import the library\n",
    "import numpy as np"
   ]
  },
  {
   "cell_type": "markdown",
   "id": "640d38d2",
   "metadata": {},
   "source": [
    "## What is an Array?\n",
    "\n",
    "An **array** is a collection of items stored at continuous memory locations.  \n",
    "In Python, we mostly use **NumPy arrays** instead of lists when working with numbers, because they are:\n",
    "\n",
    "1. **Fast** – NumPy arrays are optimized for numerical operations.  \n",
    "2. **Efficient** – They use less memory compared to Python lists.  \n",
    "3. **Convenient** – Many built-in functions make calculations easy.  \n",
    "\n",
    "### Key Points:\n",
    "- An array can store multiple values in one variable.  \n",
    "- All elements in a NumPy array must be of the **same data type**.  \n",
    "- Arrays can be **1D, 2D, or multi-dimensional**.  \n",
    "\n",
    "### Example:\n"
   ]
  },
  {
   "cell_type": "code",
   "execution_count": 3,
   "id": "fd19f426",
   "metadata": {},
   "outputs": [
    {
     "name": "stdout",
     "output_type": "stream",
     "text": [
      "1D Array: [1 2 3 4]\n",
      "2D Array: [[1 2 3]\n",
      " [4 5 6]]\n"
     ]
    }
   ],
   "source": [
    "# Simple NumPy Examples\n",
    "import numpy as np  \n",
    "\n",
    "# 1D Array  \n",
    "arr1 = np.array([1, 2, 3, 4])  \n",
    "\n",
    "# 2D Array  \n",
    "arr2 = np.array([[1, 2, 3], [4, 5, 6]])  \n",
    "\n",
    "print(\"1D Array:\", arr1)\n",
    "print(\"2D Array:\", arr2)\n"
   ]
  },
  {
   "cell_type": "code",
   "execution_count": 4,
   "id": "809cecec",
   "metadata": {},
   "outputs": [
    {
     "name": "stdout",
     "output_type": "stream",
     "text": [
      "[0 1 2 3 4 5]\n"
     ]
    }
   ],
   "source": [
    "# simple 1D array\n",
    "a = np.arange(6)\n",
    "print(a)"
   ]
  },
  {
   "cell_type": "code",
   "execution_count": 5,
   "id": "72ffe33c",
   "metadata": {},
   "outputs": [
    {
     "name": "stdout",
     "output_type": "stream",
     "text": [
      "[[0 1 2 3 4 5]]\n"
     ]
    }
   ],
   "source": [
    "# simple 2D array\n",
    "a2 = a[np.newaxis, :]\n",
    "print(a2)"
   ]
  },
  {
   "cell_type": "markdown",
   "id": "3d7bbb72",
   "metadata": {},
   "source": [
    "> **1D Array**: have only one bracket it contain only columns\n",
    "\n",
    "> **2D Array**: have two brackets it contain both row and columns"
   ]
  },
  {
   "cell_type": "code",
   "execution_count": 6,
   "id": "30b8e9d2",
   "metadata": {},
   "outputs": [
    {
     "name": "stdout",
     "output_type": "stream",
     "text": [
      "[[0 1 2]\n",
      " [3 4 5]]\n"
     ]
    }
   ],
   "source": [
    "# another way to create 2D array\n",
    "a3 = np.arange(6).reshape(2, 3)\n",
    "print(a3)"
   ]
  },
  {
   "cell_type": "code",
   "execution_count": 7,
   "id": "d61b1376",
   "metadata": {},
   "outputs": [
    {
     "name": "stdout",
     "output_type": "stream",
     "text": [
      "Shape of a: (6,)\n",
      "Shape of a2: (1, 6)\n",
      "Shape of a3: (2, 3)\n"
     ]
    }
   ],
   "source": [
    "# check the shape of arrays\n",
    "print(\"Shape of a:\", a.shape)\n",
    "print(\"Shape of a2:\", a2.shape)\n",
    "print(\"Shape of a3:\", a3.shape)"
   ]
  },
  {
   "cell_type": "markdown",
   "id": "0784874c",
   "metadata": {},
   "source": [
    "> #### Shapes\n",
    ">- shape of a: it shows `a` have only 6 columns\n",
    ">- shape of a2: it shows `a2` have 1 rows and 6 columns\n",
    ">- shape of a3: it shows `a3` have 2 rows and 3 columns"
   ]
  },
  {
   "cell_type": "markdown",
   "id": "b0fba776",
   "metadata": {},
   "source": [
    "### 3D Array\n",
    "- it is mostly use in image analysis"
   ]
  },
  {
   "cell_type": "code",
   "execution_count": 8,
   "id": "03c2b29d",
   "metadata": {},
   "outputs": [
    {
     "name": "stdout",
     "output_type": "stream",
     "text": [
      "[[[0 1 2 3 4 5]]]\n"
     ]
    },
    {
     "data": {
      "text/plain": [
       "(1, 1, 6)"
      ]
     },
     "execution_count": 8,
     "metadata": {},
     "output_type": "execute_result"
    }
   ],
   "source": [
    "# 3D array\n",
    "a4 = a2[np.newaxis, :]\n",
    "print(a4)\n",
    "\n",
    "# check the shape of array\n",
    "a4.shape"
   ]
  },
  {
   "cell_type": "code",
   "execution_count": 35,
   "id": "181abace",
   "metadata": {},
   "outputs": [
    {
     "name": "stdout",
     "output_type": "stream",
     "text": [
      "int64\n"
     ]
    },
    {
     "data": {
      "text/plain": [
       "numpy.ndarray"
      ]
     },
     "execution_count": 35,
     "metadata": {},
     "output_type": "execute_result"
    }
   ],
   "source": [
    "# we can check the data type of arrays\n",
    "print(a4.dtype)\n",
    "\n",
    "# we can also check check the type of data\n",
    "type(a4)"
   ]
  },
  {
   "cell_type": "markdown",
   "id": "234d6742",
   "metadata": {},
   "source": [
    "## Why do we have 1D, 2D, and 3D Arrays?\n",
    "\n",
    "Arrays come in different dimensions because data in real life is not always stored in a simple line.  \n",
    "Depending on the type of data, we use different dimensional arrays.\n",
    "\n",
    "### 1D Array\n",
    "- Looks like a simple list of numbers.  \n",
    "- Example: `[10, 20, 30, 40]`  \n",
    "- **Use in Data Science:** To store features like a single column (e.g., ages of people).  \n",
    "\n",
    "### 2D Array\n",
    "- Data stored in rows and columns (like a table).  \n",
    "- Example:\\\n",
    "           [[1, 2, 3],\\\n",
    "             [4, 5, 6]]\n",
    "\n",
    "- **Use in Data Science:** To store datasets in tabular form (e.g., rows = students, columns = marks).  \n",
    "\n",
    "### 3D Array\n",
    "- Collection of 2D arrays stacked together (like pages in a book).  \n",
    "- Example: multiple tables of data.  \n",
    "- **Use in Data Science:** To work with images (height × width × color channels) or time series with multiple features.  \n",
    "\n",
    "### Summary\n",
    "- **1D:** For single feature data.  \n",
    "- **2D:** For tabular data.  \n",
    "- **3D:** For complex data like images, videos, or multi-dimensional signals.  \n",
    "\n",
    "---"
   ]
  },
  {
   "cell_type": "markdown",
   "id": "1b909908",
   "metadata": {},
   "source": [
    "# Creating Arrays With Numpy"
   ]
  },
  {
   "cell_type": "code",
   "execution_count": 12,
   "id": "383c0160",
   "metadata": {},
   "outputs": [
    {
     "name": "stdout",
     "output_type": "stream",
     "text": [
      "1D Array:  [1 2 3 4 5]\n",
      "2D Array:  [[1 2 3 4 5]\n",
      " [6 7 8 9 0]]\n"
     ]
    }
   ],
   "source": [
    "# simple array\n",
    "a = np.array([1, 2, 3, 4, 5])\n",
    "b = np.array([(1, 2, 3, 4, 5),(6, 7, 8, 9, 0)])\n",
    "print(\"1D Array: \", a)\n",
    "print(\"2D Array: \" ,b)"
   ]
  },
  {
   "cell_type": "code",
   "execution_count": 13,
   "id": "12f59721",
   "metadata": {},
   "outputs": [
    {
     "data": {
      "text/plain": [
       "(5,)"
      ]
     },
     "execution_count": 13,
     "metadata": {},
     "output_type": "execute_result"
    }
   ],
   "source": [
    "# check the shape of a\n",
    "a.shape\n"
   ]
  },
  {
   "cell_type": "markdown",
   "id": "5a847d50",
   "metadata": {},
   "source": [
    "> there is only 5 columns"
   ]
  },
  {
   "cell_type": "code",
   "execution_count": 14,
   "id": "89ea2d7c",
   "metadata": {},
   "outputs": [
    {
     "data": {
      "text/plain": [
       "(2, 5)"
      ]
     },
     "execution_count": 14,
     "metadata": {},
     "output_type": "execute_result"
    }
   ],
   "source": [
    "# shape of b array\n",
    "b.shape"
   ]
  },
  {
   "cell_type": "markdown",
   "id": "9d976999",
   "metadata": {},
   "source": [
    "> there is 2 rows and 5 columns"
   ]
  },
  {
   "cell_type": "markdown",
   "id": "d905d01d",
   "metadata": {},
   "source": [
    "# Initilize Arrays"
   ]
  },
  {
   "cell_type": "code",
   "execution_count": 42,
   "id": "b552282e",
   "metadata": {},
   "outputs": [
    {
     "name": "stdout",
     "output_type": "stream",
     "text": [
      "float64\n",
      "<class 'numpy.ndarray'>\n"
     ]
    },
    {
     "data": {
      "text/plain": [
       "array([[0., 0., 0., 0.],\n",
       "       [0., 0., 0., 0.],\n",
       "       [0., 0., 0., 0.]])"
      ]
     },
     "execution_count": 42,
     "metadata": {},
     "output_type": "execute_result"
    }
   ],
   "source": [
    "# array fill with zeros\n",
    "zeros = np.zeros((3,4))   # 3 rows and 4 columns\n",
    "# check the data type of array\n",
    "print(zeros.dtype)\n",
    "# check the data type\n",
    "print(type(zeros))\n",
    "zeros"
   ]
  },
  {
   "cell_type": "code",
   "execution_count": 41,
   "id": "fb8e16bb",
   "metadata": {},
   "outputs": [
    {
     "name": "stdout",
     "output_type": "stream",
     "text": [
      "float64\n",
      "<class 'numpy.ndarray'>\n"
     ]
    },
    {
     "data": {
      "text/plain": [
       "array([[1., 1., 1., 1., 1.],\n",
       "       [1., 1., 1., 1., 1.]])"
      ]
     },
     "execution_count": 41,
     "metadata": {},
     "output_type": "execute_result"
    }
   ],
   "source": [
    "# array of ones\n",
    "ones = np.ones((2,5))   # (rows, columns)\n",
    "# check the data type of array\n",
    "print(ones.dtype)\n",
    "# check the type of data\n",
    "print(type(ones))\n",
    "ones"
   ]
  },
  {
   "cell_type": "code",
   "execution_count": null,
   "id": "15b4684a",
   "metadata": {},
   "outputs": [
    {
     "name": "stdout",
     "output_type": "stream",
     "text": [
      "int64\n",
      "<class 'numpy.ndarray'>\n"
     ]
    },
    {
     "data": {
      "text/plain": [
       "array([[5, 5, 5, 5, 5],\n",
       "       [5, 5, 5, 5, 5],\n",
       "       [5, 5, 5, 5, 5]])"
      ]
     },
     "execution_count": 40,
     "metadata": {},
     "output_type": "execute_result"
    }
   ],
   "source": [
    "# full array\n",
    "full = np.full((3,5), 5)   # ((rows, columns), filling value)\n",
    "# check the data type\n",
    "print(full.dtype)\n",
    "# check the type of data\n",
    "print(type(full))\n",
    "full"
   ]
  },
  {
   "cell_type": "markdown",
   "id": "c7e610d2",
   "metadata": {},
   "source": [
    "## Identity Matrix\n",
    "\n",
    "An **Identity Matrix** is a special square matrix in which:  \n",
    "- All the elements on the **main diagonal** are `1`.  \n",
    "- All the other elements are `0`.  \n",
    "\n",
    "### Example (3×3 Identity Matrix):\n",
    "1 0 0\\\n",
    "0 1 0\\\n",
    "0 0 1"
   ]
  },
  {
   "cell_type": "code",
   "execution_count": 43,
   "id": "a8e5adf9",
   "metadata": {},
   "outputs": [
    {
     "name": "stdout",
     "output_type": "stream",
     "text": [
      "float64\n",
      "<class 'numpy.ndarray'>\n"
     ]
    },
    {
     "data": {
      "text/plain": [
       "array([[1., 0., 0., 0., 0.],\n",
       "       [0., 1., 0., 0., 0.],\n",
       "       [0., 0., 1., 0., 0.],\n",
       "       [0., 0., 0., 1., 0.],\n",
       "       [0., 0., 0., 0., 1.]])"
      ]
     },
     "execution_count": 43,
     "metadata": {},
     "output_type": "execute_result"
    }
   ],
   "source": [
    "# creating identity matrix\n",
    "identity = np.eye(5)   # 5×5 Identity Matrix\n",
    "# check the data type of array\n",
    "print(identity.dtype)\n",
    "# check the type of data\n",
    "print(type(identity))\n",
    "identity"
   ]
  },
  {
   "cell_type": "markdown",
   "id": "203ce2f3",
   "metadata": {},
   "source": [
    "# Attributes of Array"
   ]
  },
  {
   "cell_type": "code",
   "execution_count": 48,
   "id": "69c409e0",
   "metadata": {},
   "outputs": [],
   "source": [
    "# array\n",
    "a = np.array([1, 2, 3, 4, 5])\n",
    "b = np.array([(1, 2, 3, 4, 5),(6, 7, 8, 9, 0)])"
   ]
  },
  {
   "cell_type": "code",
   "execution_count": 44,
   "id": "ec019745",
   "metadata": {},
   "outputs": [
    {
     "data": {
      "text/plain": [
       "(2, 5)"
      ]
     },
     "execution_count": 44,
     "metadata": {},
     "output_type": "execute_result"
    }
   ],
   "source": [
    "# check the shpe\n",
    "b.shape"
   ]
  },
  {
   "cell_type": "code",
   "execution_count": 54,
   "id": "bedcb91d",
   "metadata": {},
   "outputs": [
    {
     "data": {
      "text/plain": [
       "5"
      ]
     },
     "execution_count": 54,
     "metadata": {},
     "output_type": "execute_result"
    }
   ],
   "source": [
    "# check the Lenght of array\n",
    "len(a)"
   ]
  },
  {
   "cell_type": "code",
   "execution_count": 52,
   "id": "8efc3926",
   "metadata": {},
   "outputs": [
    {
     "data": {
      "text/plain": [
       "10"
      ]
     },
     "execution_count": 52,
     "metadata": {},
     "output_type": "execute_result"
    }
   ],
   "source": [
    "# check the Number Elements in array\n",
    "b.size"
   ]
  },
  {
   "cell_type": "code",
   "execution_count": 53,
   "id": "6938bda3",
   "metadata": {},
   "outputs": [
    {
     "data": {
      "text/plain": [
       "2"
      ]
     },
     "execution_count": 53,
     "metadata": {},
     "output_type": "execute_result"
    }
   ],
   "source": [
    "# check the Dimention of array\n",
    "b.ndim"
   ]
  },
  {
   "cell_type": "markdown",
   "id": "bb798153",
   "metadata": {},
   "source": [
    "# Basic Oprations of Array"
   ]
  },
  {
   "cell_type": "code",
   "execution_count": 55,
   "id": "664e131a",
   "metadata": {},
   "outputs": [],
   "source": [
    "# array\n",
    "a = np.array([1, 2, 3, 4, 5])\n",
    "b = np.array([(1, 2, 3, 4, 5),(6, 7, 8, 9, 0)])"
   ]
  },
  {
   "cell_type": "code",
   "execution_count": null,
   "id": "03771335",
   "metadata": {},
   "outputs": [
    {
     "data": {
      "text/plain": [
       "array([[ 0,  0,  0,  0,  0],\n",
       "       [-5, -5, -5, -5,  5]])"
      ]
     },
     "execution_count": 56,
     "metadata": {},
     "output_type": "execute_result"
    }
   ],
   "source": [
    "# subtraction\n",
    "g = a-b\n",
    "g"
   ]
  },
  {
   "cell_type": "code",
   "execution_count": null,
   "id": "ba6762c5",
   "metadata": {},
   "outputs": [
    {
     "data": {
      "text/plain": [
       "array([[ 2,  4,  6,  8, 10],\n",
       "       [ 7,  9, 11, 13,  5]])"
      ]
     },
     "execution_count": 58,
     "metadata": {},
     "output_type": "execute_result"
    }
   ],
   "source": [
    "# addition\n",
    "g = a + b\n",
    "g"
   ]
  },
  {
   "cell_type": "code",
   "execution_count": 63,
   "id": "c5e29b35",
   "metadata": {},
   "outputs": [
    {
     "data": {
      "text/plain": [
       "array([[ 2,  4,  6,  8, 10],\n",
       "       [ 7,  9, 11, 13,  5]])"
      ]
     },
     "execution_count": 63,
     "metadata": {},
     "output_type": "execute_result"
    }
   ],
   "source": [
    "# another way of addition\n",
    "g1 = np.add(a, b)\n",
    "g1"
   ]
  },
  {
   "cell_type": "code",
   "execution_count": 59,
   "id": "6f781876",
   "metadata": {},
   "outputs": [
    {
     "data": {
      "text/plain": [
       "array([[ 1,  4,  9, 16, 25],\n",
       "       [ 6, 14, 24, 36,  0]])"
      ]
     },
     "execution_count": 59,
     "metadata": {},
     "output_type": "execute_result"
    }
   ],
   "source": [
    "# multiplication\n",
    "g = a * b\n",
    "g"
   ]
  },
  {
   "cell_type": "code",
   "execution_count": null,
   "id": "07749922",
   "metadata": {},
   "outputs": [
    {
     "name": "stderr",
     "output_type": "stream",
     "text": [
      "/tmp/ipykernel_6814/3263949806.py:2: RuntimeWarning: divide by zero encountered in divide\n",
      "  g = a / b\n"
     ]
    },
    {
     "data": {
      "text/plain": [
       "array([[1.        , 1.        , 1.        , 1.        , 1.        ],\n",
       "       [0.16666667, 0.28571429, 0.375     , 0.44444444,        inf]])"
      ]
     },
     "execution_count": 61,
     "metadata": {},
     "output_type": "execute_result"
    }
   ],
   "source": [
    "# devision\n",
    "g = a / b\n",
    "g"
   ]
  },
  {
   "cell_type": "code",
   "execution_count": 64,
   "id": "e075b302",
   "metadata": {},
   "outputs": [
    {
     "data": {
      "text/plain": [
       "array([ 1,  4,  9, 16, 25])"
      ]
     },
     "execution_count": 64,
     "metadata": {},
     "output_type": "execute_result"
    }
   ],
   "source": [
    "# squre of each element\n",
    "s = a ** 2\n",
    "s"
   ]
  }
 ],
 "metadata": {
  "kernelspec": {
   "display_name": "laibrary",
   "language": "python",
   "name": "python3"
  },
  "language_info": {
   "codemirror_mode": {
    "name": "ipython",
    "version": 3
   },
   "file_extension": ".py",
   "mimetype": "text/x-python",
   "name": "python",
   "nbconvert_exporter": "python",
   "pygments_lexer": "ipython3",
   "version": "3.11.13"
  }
 },
 "nbformat": 4,
 "nbformat_minor": 5
}
