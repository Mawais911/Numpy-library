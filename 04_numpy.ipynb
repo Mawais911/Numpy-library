{
 "cells": [
  {
   "cell_type": "markdown",
   "id": "5819b990",
   "metadata": {},
   "source": [
    "# Creating matrices"
   ]
  },
  {
   "cell_type": "code",
   "execution_count": 1,
   "id": "6e3c469d",
   "metadata": {},
   "outputs": [
    {
     "name": "stdout",
     "output_type": "stream",
     "text": [
      "[[1 2 3]\n",
      " [4 5 6]]\n"
     ]
    }
   ],
   "source": [
    "# create a 2 by 3 matrix\n",
    "import numpy as np\n",
    "a = np.array([[1, 2, 3], [4, 5, 6]])\n",
    "print(a)"
   ]
  },
  {
   "cell_type": "code",
   "execution_count": 2,
   "id": "2b1cbb77",
   "metadata": {},
   "outputs": [
    {
     "data": {
      "text/plain": [
       "array([[ 0,  2,  4,  6,  8, 10, 12, 14, 16, 18],\n",
       "       [20, 22, 24, 26, 28, 30, 32, 34, 36, 38],\n",
       "       [40, 42, 44, 46, 48, 50, 52, 54, 56, 58],\n",
       "       [60, 62, 64, 66, 68, 70, 72, 74, 76, 78],\n",
       "       [80, 82, 84, 86, 88, 90, 92, 94, 96, 98]])"
      ]
     },
     "execution_count": 2,
     "metadata": {},
     "output_type": "execute_result"
    }
   ],
   "source": [
    "# create a matrix of big dimension\n",
    "b = np.arange(0, 100, 2).reshape(5, 10)\n",
    "b"
   ]
  },
  {
   "cell_type": "code",
   "execution_count": 3,
   "id": "03efc671",
   "metadata": {},
   "outputs": [
    {
     "data": {
      "text/plain": [
       "array([[ 2,  4],\n",
       "       [22, 24],\n",
       "       [42, 44],\n",
       "       [62, 64],\n",
       "       [82, 84]])"
      ]
     },
     "execution_count": 3,
     "metadata": {},
     "output_type": "execute_result"
    }
   ],
   "source": [
    "# slicing a matrix\n",
    "c = b[0:5, 1:3]          # row 0 to 4 and column 1 to 2\n",
    "c"
   ]
  },
  {
   "cell_type": "code",
   "execution_count": 4,
   "id": "9c75b927",
   "metadata": {},
   "outputs": [
    {
     "name": "stdout",
     "output_type": "stream",
     "text": [
      "the max of b is 98\n",
      "the min of b is 0\n",
      "the sum of b is 2450\n",
      "the mean of b is 49.0\n",
      "the standard deviation of b is 28.861739379323623\n"
     ]
    }
   ],
   "source": [
    "# find the max of b\n",
    "print(\"the max of b is\",b.max())\n",
    "# find the min of b\n",
    "print(\"the min of b is\",b.min())\n",
    "# find the sum of b\n",
    "print(\"the sum of b is\",b.sum())\n",
    "# find the mean of b\n",
    "print(\"the mean of b is\",b.mean())\n",
    "# find the standard deviation of b\n",
    "print(\"the standard deviation of b is\",b.std())"
   ]
  },
  {
   "cell_type": "markdown",
   "id": "afcd8f89",
   "metadata": {},
   "source": [
    "> axis-0 = columns wise\\\n",
    "> axis-1 = row wise"
   ]
  },
  {
   "cell_type": "code",
   "execution_count": 5,
   "id": "73866969",
   "metadata": {},
   "outputs": [
    {
     "name": "stdout",
     "output_type": "stream",
     "text": [
      "the max at 0 axis is [80 82 84 86 88 90 92 94 96 98]\n",
      "the max at 1 axis is [18 38 58 78 98]\n"
     ]
    }
   ],
   "source": [
    "# find the max at 0 axis\n",
    "print(\"the max at 0 axis is\",b.max(axis=0))\n",
    "# find the max at 1 axis\n",
    "print(\"the max at 1 axis is\",b.max(axis=1))"
   ]
  },
  {
   "cell_type": "code",
   "execution_count": 6,
   "id": "f8cee011",
   "metadata": {},
   "outputs": [
    {
     "name": "stdout",
     "output_type": "stream",
     "text": [
      "the min at 0 axis is [ 0  2  4  6  8 10 12 14 16 18]\n",
      "the min at 1 axis is [ 0 20 40 60 80]\n"
     ]
    }
   ],
   "source": [
    "# find the min at 0 axis\n",
    "print(\"the min at 0 axis is\",b.min(axis=0))\n",
    "# find the min at 1 axis\n",
    "print(\"the min at 1 axis is\",b.min(axis=1))"
   ]
  },
  {
   "cell_type": "code",
   "execution_count": 7,
   "id": "0a1b2da2",
   "metadata": {},
   "outputs": [
    {
     "name": "stdout",
     "output_type": "stream",
     "text": [
      "the sum at 0 axis is [200 210 220 230 240 250 260 270 280 290]\n",
      "the sum at 1 axis is [ 90 290 490 690 890]\n"
     ]
    }
   ],
   "source": [
    "# find the sum at 0 axis\n",
    "print(\"the sum at 0 axis is\",b.sum(axis=0))\n",
    "# find the sum at 1 axis\n",
    "print(\"the sum at 1 axis is\",b.sum(axis=1))"
   ]
  },
  {
   "cell_type": "code",
   "execution_count": 8,
   "id": "562d8f53",
   "metadata": {},
   "outputs": [
    {
     "name": "stdout",
     "output_type": "stream",
     "text": [
      "the std at 0 axis is [28.28427125 28.28427125 28.28427125 28.28427125 28.28427125 28.28427125\n",
      " 28.28427125 28.28427125 28.28427125 28.28427125]\n",
      "the std at 1 axis is [5.74456265 5.74456265 5.74456265 5.74456265 5.74456265]\n"
     ]
    }
   ],
   "source": [
    "# find the std  at 0 axis\n",
    "print(\"the std at 0 axis is\",b.std(axis=0))\n",
    "# find the std at 1 axis\n",
    "print(\"the std at 1 axis is\",b.std(axis=1))"
   ]
  },
  {
   "cell_type": "code",
   "execution_count": 9,
   "id": "13acae2d",
   "metadata": {},
   "outputs": [
    {
     "name": "stdout",
     "output_type": "stream",
     "text": [
      "the mean at 0 axis is [40. 42. 44. 46. 48. 50. 52. 54. 56. 58.]\n",
      "the mean at 1 axis is [ 9. 29. 49. 69. 89.]\n"
     ]
    }
   ],
   "source": [
    "# find the mean at 0 axis\n",
    "print(\"the mean at 0 axis is\",b.mean(axis=0))\n",
    "# find the mean at 1 axis\n",
    "print(\"the mean at 1 axis is\",b.mean(axis=1))"
   ]
  },
  {
   "cell_type": "code",
   "execution_count": 10,
   "id": "086fdf23",
   "metadata": {},
   "outputs": [
    {
     "data": {
      "text/plain": [
       "array([[ 0,  2,  4,  6,  8, 10, 12, 14, 16, 18],\n",
       "       [20, 22, 24, 26, 28, 30, 32, 34, 36, 38],\n",
       "       [40, 42, 44, 46, 48, 50, 52, 54, 56, 58],\n",
       "       [60, 62, 64, 66, 68, 70, 72, 74, 76, 78],\n",
       "       [80, 82, 84, 86, 88, 90, 92, 94, 96, 98]])"
      ]
     },
     "execution_count": 10,
     "metadata": {},
     "output_type": "execute_result"
    }
   ],
   "source": [
    "b"
   ]
  },
  {
   "cell_type": "code",
   "execution_count": 12,
   "id": "c11cde0c",
   "metadata": {},
   "outputs": [
    {
     "data": {
      "text/plain": [
       "array([[ 0,  2],\n",
       "       [ 4,  6],\n",
       "       [ 8, 10],\n",
       "       [12, 14],\n",
       "       [16, 18]])"
      ]
     },
     "execution_count": 12,
     "metadata": {},
     "output_type": "execute_result"
    }
   ],
   "source": [
    "# create matrix\n",
    "m = np.arange(0, 20, 2).reshape(5,2)\n",
    "m"
   ]
  },
  {
   "cell_type": "code",
   "execution_count": null,
   "id": "3d572fd7",
   "metadata": {},
   "outputs": [
    {
     "data": {
      "text/plain": [
       "array([[20, 24],\n",
       "       [24, 28],\n",
       "       [28, 32],\n",
       "       [32, 36],\n",
       "       [36, 40]])"
      ]
     },
     "execution_count": 13,
     "metadata": {},
     "output_type": "execute_result"
    }
   ],
   "source": [
    "# add the values in all rows\n",
    "m + np.array([20, 22])      # instead of addition we perform any mathmatical opration"
   ]
  },
  {
   "cell_type": "code",
   "execution_count": 19,
   "id": "464a5477",
   "metadata": {},
   "outputs": [
    {
     "data": {
      "text/plain": [
       "array([[ 0,  2],\n",
       "       [ 4,  6],\n",
       "       [ 8, 10],\n",
       "       [12, 14],\n",
       "       [16, 18],\n",
       "       [20, 22]])"
      ]
     },
     "execution_count": 19,
     "metadata": {},
     "output_type": "execute_result"
    }
   ],
   "source": [
    "# add the complete row at botum\n",
    "np.vstack((m,+ np.array([20, 22])))"
   ]
  },
  {
   "cell_type": "code",
   "execution_count": 16,
   "id": "2be1f962",
   "metadata": {},
   "outputs": [
    {
     "data": {
      "text/plain": [
       "array([ 0,  2,  4,  6,  8, 10, 12, 14, 16, 18])"
      ]
     },
     "execution_count": 16,
     "metadata": {},
     "output_type": "execute_result"
    }
   ],
   "source": [
    "# find the unique items\n",
    "np.unique(m)"
   ]
  },
  {
   "cell_type": "code",
   "execution_count": 17,
   "id": "8a7d0de2",
   "metadata": {},
   "outputs": [
    {
     "data": {
      "text/plain": [
       "array([[18, 16],\n",
       "       [14, 12],\n",
       "       [10,  8],\n",
       "       [ 6,  4],\n",
       "       [ 2,  0]])"
      ]
     },
     "execution_count": 17,
     "metadata": {},
     "output_type": "execute_result"
    }
   ],
   "source": [
    "# reverse the array\n",
    "np.flip(m)"
   ]
  },
  {
   "cell_type": "code",
   "execution_count": null,
   "id": "29a529f5",
   "metadata": {},
   "outputs": [],
   "source": []
  }
 ],
 "metadata": {
  "kernelspec": {
   "display_name": "laibrary",
   "language": "python",
   "name": "python3"
  },
  "language_info": {
   "codemirror_mode": {
    "name": "ipython",
    "version": 3
   },
   "file_extension": ".py",
   "mimetype": "text/x-python",
   "name": "python",
   "nbconvert_exporter": "python",
   "pygments_lexer": "ipython3",
   "version": "3.11.13"
  }
 },
 "nbformat": 4,
 "nbformat_minor": 5
}
